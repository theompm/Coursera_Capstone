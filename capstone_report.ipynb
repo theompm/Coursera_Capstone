{
 "cells": [
  {
   "cell_type": "markdown",
   "id": "distinct-thesis",
   "metadata": {},
   "source": [
    "<div align='center'>\n",
    "    <h1>Report: Capstone Project</h1>\n",
    "    <h4>Matthäus Morhart</h4>\n",
    "    <h5>March 2021</h5>\n",
    "</div>"
   ]
  },
  {
   "cell_type": "markdown",
   "id": "comfortable-circumstances",
   "metadata": {},
   "source": [
    "# Introduction"
   ]
  },
  {
   "cell_type": "code",
   "execution_count": null,
   "id": "champion-lightning",
   "metadata": {},
   "outputs": [],
   "source": []
  },
  {
   "cell_type": "markdown",
   "id": "willing-cornwall",
   "metadata": {},
   "source": [
    "# Problem"
   ]
  },
  {
   "cell_type": "code",
   "execution_count": null,
   "id": "everyday-production",
   "metadata": {},
   "outputs": [],
   "source": []
  }
 ],
 "metadata": {
  "kernelspec": {
   "display_name": "Python 3",
   "language": "python",
   "name": "python3"
  },
  "language_info": {
   "codemirror_mode": {
    "name": "ipython",
    "version": 3
   },
   "file_extension": ".py",
   "mimetype": "text/x-python",
   "name": "python",
   "nbconvert_exporter": "python",
   "pygments_lexer": "ipython3",
   "version": "3.9.1"
  }
 },
 "nbformat": 4,
 "nbformat_minor": 5
}
